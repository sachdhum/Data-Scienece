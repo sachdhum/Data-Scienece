{
 "cells": [
  {
   "cell_type": "code",
   "execution_count": 1,
   "metadata": {},
   "outputs": [],
   "source": [
    "import numpy as np"
   ]
  },
  {
   "cell_type": "code",
   "execution_count": 2,
   "metadata": {},
   "outputs": [],
   "source": [
    "countries=np.array(['Algeria','Angola','Argentina','Australia','Austria','Bahamas','Bangladesh','Belarus','Belgium',\n",
    "                    'Bhutan','Brazil','Bulgaria','Cambodia','Cameroon','Chile','China','Colombia','Cyprus','Denmark',\n",
    "                    'El Salvador','Estonia','Ethiopia','Fiji','Finland','France','Georgia','Ghana','Grenada','Guinea',\n",
    "                    'Haiti','Honduras','Hungary','India','Indonesia','Ireland','Italy','Japan','Kenya', 'South Korea',\n",
    "                    'Liberia','Malaysia','Mexico', 'Morocco','Nepal','New Zealand','Norway','Pakistan', 'Peru','Qatar',\n",
    "                    'Russia','Singapore','South Africa','Spain','Sweden','Switzerland','Thailand', 'United Arab Emirates',\n",
    "                    'United Kingdom','United States','Uruguay','Venezuela','Vietnam','Zimbabwe'])\n",
    "gdp_per_capita=np.array([2255.225482,629.9553062,11601.63022,25306.82494,27266.40335,19466.99052,588.3691778,2890.345675,\n",
    "                         24733.62696,1445.760002,4803.398244,2618.876037,590.4521124,665.7982328,7122.938458,2639.54156,\n",
    "                         3362.4656,15378.16704,30860.12808,2579.115607,6525.541272,229.6769525,2242.689259,27570.4852,\n",
    "                         23016.84778,1334.646773,402.6953275,6047.200797,394.1156638,385.5793827,1414.072488,5745.981529,\n",
    "                         837.7464011,1206.991065,27715.52837,18937.24998,39578.07441,478.2194906,16684.21278,279.2204061,\n",
    "                         5345.213415,6288.25324,1908.304416,274.8728621,14646.42094,40034.85063,672.1547506,3359.517402,\n",
    "                         36152.66676,3054.727742,33529.83052,3825.093781,15428.32098,33630.24604,39170.41371,2699.123242,\n",
    "                         21058.43643,28272.40661,37691.02733,9581.05659,5671.912202,757.4009286,347.7456605])"
   ]
  },
  {
   "cell_type": "code",
   "execution_count": 3,
   "metadata": {},
   "outputs": [],
   "source": [
    "Highest_GDP=gdp_per_capita.argmax()"
   ]
  },
  {
   "cell_type": "code",
   "execution_count": 5,
   "metadata": {},
   "outputs": [],
   "source": [
    "Country_Max_GDP=countries[Highest_GDP]"
   ]
  },
  {
   "cell_type": "code",
   "execution_count": 6,
   "metadata": {},
   "outputs": [
    {
     "data": {
      "text/plain": [
       "'Norway'"
      ]
     },
     "execution_count": 6,
     "metadata": {},
     "output_type": "execute_result"
    }
   ],
   "source": [
    "Country_Max_GDP"
   ]
  },
  {
   "cell_type": "code",
   "execution_count": 7,
   "metadata": {},
   "outputs": [],
   "source": [
    "Lowest_GDP=gdp_per_capita.argmin()"
   ]
  },
  {
   "cell_type": "code",
   "execution_count": 8,
   "metadata": {},
   "outputs": [],
   "source": [
    "Country_Min_GDP=countries[Lowest_GDP]"
   ]
  },
  {
   "cell_type": "code",
   "execution_count": 9,
   "metadata": {},
   "outputs": [
    {
     "data": {
      "text/plain": [
       "'Ethiopia'"
      ]
     },
     "execution_count": 9,
     "metadata": {},
     "output_type": "execute_result"
    }
   ],
   "source": [
    "Country_Min_GDP"
   ]
  },
  {
   "cell_type": "code",
   "execution_count": 10,
   "metadata": {},
   "outputs": [
    {
     "name": "stdout",
     "output_type": "stream",
     "text": [
      "The name of the country is Algeria\n",
      "The name of the country is Angola\n",
      "The name of the country is Argentina\n",
      "The name of the country is Australia\n",
      "The name of the country is Austria\n",
      "The name of the country is Bahamas\n",
      "The name of the country is Bangladesh\n",
      "The name of the country is Belarus\n",
      "The name of the country is Belgium\n",
      "The name of the country is Bhutan\n",
      "The name of the country is Brazil\n",
      "The name of the country is Bulgaria\n",
      "The name of the country is Cambodia\n",
      "The name of the country is Cameroon\n",
      "The name of the country is Chile\n",
      "The name of the country is China\n",
      "The name of the country is Colombia\n",
      "The name of the country is Cyprus\n",
      "The name of the country is Denmark\n",
      "The name of the country is El Salvador\n",
      "The name of the country is Estonia\n",
      "The name of the country is Ethiopia\n",
      "The name of the country is Fiji\n",
      "The name of the country is Finland\n",
      "The name of the country is France\n",
      "The name of the country is Georgia\n",
      "The name of the country is Ghana\n",
      "The name of the country is Grenada\n",
      "The name of the country is Guinea\n",
      "The name of the country is Haiti\n",
      "The name of the country is Honduras\n",
      "The name of the country is Hungary\n",
      "The name of the country is India\n",
      "The name of the country is Indonesia\n",
      "The name of the country is Ireland\n",
      "The name of the country is Italy\n",
      "The name of the country is Japan\n",
      "The name of the country is Kenya\n",
      "The name of the country is South Korea\n",
      "The name of the country is Liberia\n",
      "The name of the country is Malaysia\n",
      "The name of the country is Mexico\n",
      "The name of the country is Morocco\n",
      "The name of the country is Nepal\n",
      "The name of the country is New Zealand\n",
      "The name of the country is Norway\n",
      "The name of the country is Pakistan\n",
      "The name of the country is Peru\n",
      "The name of the country is Qatar\n",
      "The name of the country is Russia\n",
      "The name of the country is Singapore\n",
      "The name of the country is South Africa\n",
      "The name of the country is Spain\n",
      "The name of the country is Sweden\n",
      "The name of the country is Switzerland\n",
      "The name of the country is Thailand\n",
      "The name of the country is United Arab Emirates\n",
      "The name of the country is United Kingdom\n",
      "The name of the country is United States\n",
      "The name of the country is Uruguay\n",
      "The name of the country is Venezuela\n",
      "The name of the country is Vietnam\n",
      "The name of the country is Zimbabwe\n"
     ]
    }
   ],
   "source": [
    "for country in countries:\n",
    "    print('The name of the country is {}' .format(country))"
   ]
  },
  {
   "cell_type": "code",
   "execution_count": 12,
   "metadata": {},
   "outputs": [
    {
     "name": "stdout",
     "output_type": "stream",
     "text": [
      "The name of the country is Algeria & its per capita 2255.225482\n",
      "The name of the country is Angola & its per capita 629.9553062\n",
      "The name of the country is Argentina & its per capita 11601.63022\n",
      "The name of the country is Australia & its per capita 25306.82494\n",
      "The name of the country is Austria & its per capita 27266.40335\n",
      "The name of the country is Bahamas & its per capita 19466.99052\n",
      "The name of the country is Bangladesh & its per capita 588.3691778\n",
      "The name of the country is Belarus & its per capita 2890.345675\n",
      "The name of the country is Belgium & its per capita 24733.62696\n",
      "The name of the country is Bhutan & its per capita 1445.760002\n",
      "The name of the country is Brazil & its per capita 4803.398244\n",
      "The name of the country is Bulgaria & its per capita 2618.876037\n",
      "The name of the country is Cambodia & its per capita 590.4521124\n",
      "The name of the country is Cameroon & its per capita 665.7982328\n",
      "The name of the country is Chile & its per capita 7122.938458\n",
      "The name of the country is China & its per capita 2639.54156\n",
      "The name of the country is Colombia & its per capita 3362.4656\n",
      "The name of the country is Cyprus & its per capita 15378.16704\n",
      "The name of the country is Denmark & its per capita 30860.12808\n",
      "The name of the country is El Salvador & its per capita 2579.115607\n",
      "The name of the country is Estonia & its per capita 6525.541272\n",
      "The name of the country is Ethiopia & its per capita 229.6769525\n",
      "The name of the country is Fiji & its per capita 2242.689259\n",
      "The name of the country is Finland & its per capita 27570.4852\n",
      "The name of the country is France & its per capita 23016.84778\n",
      "The name of the country is Georgia & its per capita 1334.646773\n",
      "The name of the country is Ghana & its per capita 402.6953275\n",
      "The name of the country is Grenada & its per capita 6047.200797\n",
      "The name of the country is Guinea & its per capita 394.1156638\n",
      "The name of the country is Haiti & its per capita 385.5793827\n",
      "The name of the country is Honduras & its per capita 1414.072488\n",
      "The name of the country is Hungary & its per capita 5745.981529\n",
      "The name of the country is India & its per capita 837.7464011\n",
      "The name of the country is Indonesia & its per capita 1206.991065\n",
      "The name of the country is Ireland & its per capita 27715.52837\n",
      "The name of the country is Italy & its per capita 18937.24998\n",
      "The name of the country is Japan & its per capita 39578.07441\n",
      "The name of the country is Kenya & its per capita 478.2194906\n",
      "The name of the country is South Korea & its per capita 16684.21278\n",
      "The name of the country is Liberia & its per capita 279.2204061\n",
      "The name of the country is Malaysia & its per capita 5345.213415\n",
      "The name of the country is Mexico & its per capita 6288.25324\n",
      "The name of the country is Morocco & its per capita 1908.304416\n",
      "The name of the country is Nepal & its per capita 274.8728621\n",
      "The name of the country is New Zealand & its per capita 14646.42094\n",
      "The name of the country is Norway & its per capita 40034.85063\n",
      "The name of the country is Pakistan & its per capita 672.1547506\n",
      "The name of the country is Peru & its per capita 3359.517402\n",
      "The name of the country is Qatar & its per capita 36152.66676\n",
      "The name of the country is Russia & its per capita 3054.727742\n",
      "The name of the country is Singapore & its per capita 33529.83052\n",
      "The name of the country is South Africa & its per capita 3825.093781\n",
      "The name of the country is Spain & its per capita 15428.32098\n",
      "The name of the country is Sweden & its per capita 33630.24604\n",
      "The name of the country is Switzerland & its per capita 39170.41371\n",
      "The name of the country is Thailand & its per capita 2699.123242\n",
      "The name of the country is United Arab Emirates & its per capita 21058.43643\n",
      "The name of the country is United Kingdom & its per capita 28272.40661\n",
      "The name of the country is United States & its per capita 37691.02733\n",
      "The name of the country is Uruguay & its per capita 9581.05659\n",
      "The name of the country is Venezuela & its per capita 5671.912202\n",
      "The name of the country is Vietnam & its per capita 757.4009286\n",
      "The name of the country is Zimbabwe & its per capita 347.7456605\n"
     ]
    }
   ],
   "source": [
    "for i in range (len(countries)):\n",
    "    country=countries[i]\n",
    "    country_GDP_per_capita=gdp_per_capita[i]\n",
    "    print('The name of the country is {} & its per capita {}'.format(country,country_GDP_per_capita))\n"
   ]
  },
  {
   "cell_type": "code",
   "execution_count": 13,
   "metadata": {},
   "outputs": [
    {
     "name": "stdout",
     "output_type": "stream",
     "text": [
      "40034.85063\n"
     ]
    }
   ],
   "source": [
    "print(gdp_per_capita.max())"
   ]
  },
  {
   "cell_type": "code",
   "execution_count": 14,
   "metadata": {},
   "outputs": [
    {
     "name": "stdout",
     "output_type": "stream",
     "text": [
      "229.6769525\n"
     ]
    }
   ],
   "source": [
    "print(gdp_per_capita.min())"
   ]
  },
  {
   "cell_type": "code",
   "execution_count": 15,
   "metadata": {},
   "outputs": [
    {
     "name": "stdout",
     "output_type": "stream",
     "text": [
      "11289.409271639683\n"
     ]
    }
   ],
   "source": [
    "print(gdp_per_capita.mean())"
   ]
  },
  {
   "cell_type": "code",
   "execution_count": 16,
   "metadata": {},
   "outputs": [
    {
     "name": "stdout",
     "output_type": "stream",
     "text": [
      "12743.828910617945\n"
     ]
    }
   ],
   "source": [
    "print(gdp_per_capita.std())"
   ]
  },
  {
   "cell_type": "code",
   "execution_count": 17,
   "metadata": {},
   "outputs": [
    {
     "name": "stdout",
     "output_type": "stream",
     "text": [
      "711232.7841133\n"
     ]
    }
   ],
   "source": [
    "print(gdp_per_capita.sum())"
   ]
  }
 ],
 "metadata": {
  "kernelspec": {
   "display_name": "Python 3",
   "language": "python",
   "name": "python3"
  },
  "language_info": {
   "codemirror_mode": {
    "name": "ipython",
    "version": 3
   },
   "file_extension": ".py",
   "mimetype": "text/x-python",
   "name": "python",
   "nbconvert_exporter": "python",
   "pygments_lexer": "ipython3",
   "version": "3.7.6"
  }
 },
 "nbformat": 4,
 "nbformat_minor": 4
}
